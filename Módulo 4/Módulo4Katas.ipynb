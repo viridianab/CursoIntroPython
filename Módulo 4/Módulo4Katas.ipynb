{
 "cells": [
  {
   "cell_type": "markdown",
   "metadata": {},
   "source": [
    "Ejercicio 1: Transformar cadenas"
   ]
  },
  {
   "cell_type": "code",
   "execution_count": 13,
   "metadata": {},
   "outputs": [
    {
     "name": "stdout",
     "output_type": "stream",
     "text": [
      "\n",
      "On average, the Moon moves 4cm away from the Earth every year\n",
      "The highest daylight temperature of the Moon is 127 C.\n",
      "\n",
      "On average, the Moon moves 4cm away from the Earth every year\n",
      "The highest daylight temperature of the Moon is 127 Celsius.\n"
     ]
    }
   ],
   "source": [
    "# Añade el código necesario\n",
    "text = \"\"\"Interesting facts about the Moon. The Moon is Earth's only satellite. There are several interesting facts about the Moon and how it affects life here on Earth. \n",
    "On average, the Moon moves 4cm away from the Earth every year. This yearly drift is not significant enough to cause immediate effects on Earth. The highest daylight temperature of the Moon is 127 C.\"\"\"\n",
    "textoFinal = text.split(\". \")\n",
    "textoFinal\n",
    "# print(textoFinal)\n",
    "\n",
    "# Define las palabras pista: average, temperature y distance suenan bien\n",
    "palabrasSeleccionadas = [\"average\",\"temperature\",\"distance\"]\n",
    "\n",
    "# Ciclo for para recorrer la cadena\n",
    "for textoCiclo in textoFinal:\n",
    "    for palabraSeleccionada in palabrasSeleccionadas:\n",
    "        if palabraSeleccionada in textoCiclo:\n",
    "            # Ciclo para cambiar C a Celsius\n",
    "            print(textoCiclo)\n",
    "            break\n",
    "\n",
    "\n",
    "# Ciclo para cambiar C a Celsius\n",
    "for textoCiclo in textoFinal:\n",
    "    for palabraSeleccionada in palabrasSeleccionadas:\n",
    "        if palabraSeleccionada in textoCiclo:\n",
    "            # Ciclo para cambiar C a Celsius\n",
    "            print(textoCiclo.replace('C', 'Celsius'))\n",
    "            break\n"
   ]
  },
  {
   "cell_type": "markdown",
   "metadata": {},
   "source": [
    "Ejercicio 2: Formateando Cadenas"
   ]
  },
  {
   "cell_type": "code",
   "execution_count": 47,
   "metadata": {},
   "outputs": [
    {
     "name": "stdout",
     "output_type": "stream",
     "text": [
      "Datos sobre: Luna\n",
      "---------------------------------------------\n",
      "Planeta cercano: Tierra\n",
      "Gravedad en Luna: 1.6199999999999999 m/s2\n",
      "--------------------------------------------\n",
      "\n",
      "Datos sobre: Luna\n",
      "---------------------------------------------\n",
      "Planeta cercano: Tierra\n",
      "Gravedad en Luna: 1.6199999999999999 m/s2\n",
      "--------------------------------------------\n",
      "\n",
      "Datos sobre: Marte \n",
      "--------------------------------------------\n",
      "Planeta cercano: Ganímedes\n",
      "Gravedad en Marte: 1.4300000000000002 m/s^2\n",
      "--------------------------------------------\n",
      "\n"
     ]
    }
   ],
   "source": [
    "# Datos con los que vas a trabajar\n",
    "name = \"Luna\"\n",
    "gravity = 0.00162 # in kms\n",
    "planet = \"Tierra\"\n",
    "\n",
    "# Creamos el título\n",
    "title = \"Datos sobre: \" + name\n",
    "\n",
    "# Creamos la plantilla\n",
    "data = f\"\"\"{'-'*45}\n",
    "Planeta cercano: {planet}\n",
    "Gravedad en {name}: {gravity * 1000} m/s2\"\"\" \n",
    "\n",
    "# Unión de ambas cadenas\n",
    "template = title+\"\\n\".title()+data\n",
    "print(template+\"\\n\"+\"--------------------------------------------\"+\"\\n\")\n",
    "\n",
    "# Comprueba la plantilla\n",
    "# print(nombre_plantilla)\n",
    "name = 'Marte'\n",
    "gravity  = 0.00143\n",
    "planet = 'Ganímedes'\n",
    "print(template+\"\\n\"+\"--------------------------------------------\")\n",
    "\n",
    "# Nueva plantilla\n",
    "newTemplate = \"\"\"\n",
    "Datos sobre: {name} \n",
    "--------------------------------------------\n",
    "Planeta cercano: {planet}\n",
    "Gravedad en {name}: {gravity} m/s^2\n",
    "--------------------------------------------\n",
    "\"\"\"\n",
    "\n",
    "# Pista: print(nueva_plantilla.format(variables))\n",
    "print(newTemplate.format(name = name, planet = planet, gravity=(gravity*1000)))\n",
    "\n"
   ]
  }
 ],
 "metadata": {
  "interpreter": {
   "hash": "ea67ec04d6f1609894cce0e7e2b0cbbe02cc6ecdd831ff647a387aa432f4b97f"
  },
  "kernelspec": {
   "display_name": "Python 3.10.2 64-bit (windows store)",
   "language": "python",
   "name": "python3"
  },
  "language_info": {
   "codemirror_mode": {
    "name": "ipython",
    "version": 3
   },
   "file_extension": ".py",
   "mimetype": "text/x-python",
   "name": "python",
   "nbconvert_exporter": "python",
   "pygments_lexer": "ipython3",
   "version": "3.10.2"
  },
  "orig_nbformat": 4
 },
 "nbformat": 4,
 "nbformat_minor": 2
}
