{
 "cells": [
  {
   "cell_type": "markdown",
   "metadata": {},
   "source": [
    "Ejercicio 1: Utilizar operadores aritméticos"
   ]
  },
  {
   "cell_type": "code",
   "execution_count": 10,
   "metadata": {},
   "outputs": [
    {
     "name": "stdout",
     "output_type": "stream",
     "text": [
      "Distancia: 628949330 kms\n",
      "Distancia: 390577534 millas\n"
     ]
    }
   ],
   "source": [
    "# Crear variables para almacenar las dos distancias\n",
    "tierra = 149597870\n",
    "jupiter = 778547200\n",
    "\n",
    "# Calcular la distancia entre planetas\n",
    "distanciaPlanetas = jupiter - tierra\n",
    "print(f'Distancia: {distanciaPlanetas} kms')\n",
    "\n",
    "distanciaMillas = (round(distanciaPlanetas * 0.621))\n",
    "print(f'Distancia: {distanciaMillas} millas')\n",
    "\n"
   ]
  },
  {
   "cell_type": "markdown",
   "metadata": {},
   "source": [
    "Ejercicio 2: convierte cadenas en números y usa valores absolutos"
   ]
  },
  {
   "cell_type": "code",
   "execution_count": 14,
   "metadata": {},
   "outputs": [
    {
     "name": "stdout",
     "output_type": "stream",
     "text": [
      "91700000\n",
      "La distancia en kilómetros es: 91700000 km\n",
      "La Distancia en millas es: 56945700.0 millas\n"
     ]
    }
   ],
   "source": [
    "# Almacenar las entradas del usuario\n",
    "planeta1 = input(\"Ingresa la distancia entre el sol y el primer planeta en kms\")\n",
    "planeta2 = input(\"Ingresa la distancia entre el sol y el segundo planeta en kms\")\n",
    "\n",
    "# Realizar el cálculo y determinar el valor absoluto\n",
    "planeta1 = int(planeta1)\n",
    "planeta2 = int(planeta2)\n",
    "distanciaKm = abs(planeta1 - planeta2)\n",
    "print(distanciaKm)\n",
    "\n",
    "## Conversion de Km a Mi\n",
    "distanciaMi = distanciaKm * 0.621\n",
    "\n",
    "print(f\"La distancia en kilómetros es: {distanciaKm} km\")\n",
    "print(f'La Distancia en millas es: {distanciaMi} millas')\n"
   ]
  }
 ],
 "metadata": {
  "interpreter": {
   "hash": "ea67ec04d6f1609894cce0e7e2b0cbbe02cc6ecdd831ff647a387aa432f4b97f"
  },
  "kernelspec": {
   "display_name": "Python 3.10.2 64-bit (windows store)",
   "language": "python",
   "name": "python3"
  },
  "language_info": {
   "codemirror_mode": {
    "name": "ipython",
    "version": 3
   },
   "file_extension": ".py",
   "mimetype": "text/x-python",
   "name": "python",
   "nbconvert_exporter": "python",
   "pygments_lexer": "ipython3",
   "version": "3.10.2"
  },
  "orig_nbformat": 4
 },
 "nbformat": 4,
 "nbformat_minor": 2
}
