{
 "cells": [
  {
   "cell_type": "markdown",
   "metadata": {},
   "source": [
    "Ejercicio 1: Uso de ciclos while en Python\n",
    "Ejercicio 2: Creación de un ciclo \"for\""
   ]
  },
  {
   "cell_type": "code",
   "execution_count": 2,
   "metadata": {},
   "outputs": [
    {
     "name": "stdout",
     "output_type": "stream",
     "text": [
      "Marte\n",
      "Tierra\n",
      "Jupiter\n",
      "Saturno\n"
     ]
    }
   ],
   "source": [
    "# Declara dos variables\n",
    "nuevoPlaneta = ''\n",
    "planetas = []\n",
    "\n",
    "# Escribe el ciclo while solicitado\n",
    "while nuevoPlaneta.lower() != 'finalizar':\n",
    "    if nuevoPlaneta:\n",
    "        planetas.append(nuevoPlaneta)\n",
    "    nuevoPlaneta = input('Ingresa un nuevo nombre de planeta, para terminar ingresa finalizar')\n",
    "    \n",
    "# Escribe tu ciclo for para iterar en una lista de planetas\n",
    "for planeta in planetas:\n",
    "    print(planeta)"
   ]
  }
 ],
 "metadata": {
  "interpreter": {
   "hash": "ea67ec04d6f1609894cce0e7e2b0cbbe02cc6ecdd831ff647a387aa432f4b97f"
  },
  "kernelspec": {
   "display_name": "Python 3.10.2 64-bit (windows store)",
   "language": "python",
   "name": "python3"
  },
  "language_info": {
   "codemirror_mode": {
    "name": "ipython",
    "version": 3
   },
   "file_extension": ".py",
   "mimetype": "text/x-python",
   "name": "python",
   "nbconvert_exporter": "python",
   "pygments_lexer": "ipython3",
   "version": "3.10.2"
  },
  "orig_nbformat": 4
 },
 "nbformat": 4,
 "nbformat_minor": 2
}
