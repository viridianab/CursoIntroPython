{
 "cells": [
  {
   "cell_type": "markdown",
   "metadata": {},
   "source": [
    "Ejercicio 1: Trabajar con argumentos en funciones"
   ]
  },
  {
   "cell_type": "code",
   "execution_count": 25,
   "metadata": {},
   "outputs": [
    {
     "name": "stdout",
     "output_type": "stream",
     "text": [
      "---------------------------------------------\n",
      "    Informe de combustible:\n",
      "    Tanque 1: 100%\n",
      "    Tanque 2: 50% \n",
      "    Tanque 3: 15%\n",
      "    Promedio de porcentaje: 55.0\n",
      "---------------------------------------------\n",
      "    \n",
      "43.333333333333336\n",
      "---------------------------------------------\n",
      "    Informe de combustible:\n",
      "    Tanque 1: 100%\n",
      "    Tanque 2: 50% \n",
      "    Tanque 3: 15%\n",
      "    Promedio de porcentaje: 55.0\n",
      "---------------------------------------------\n",
      "    \n"
     ]
    }
   ],
   "source": [
    "# Función para leer 3 tanques de combustible y muestre el promedio\n",
    "# Llamamos a la función que genera el reporte print(funcion(tanque1, tanque2, tanque3))\n",
    "def combustible_informe (tanque_1, tanque_2, tanque_3):\n",
    "    promedio_combustible = (tanque_1 + tanque_2 + tanque_3) / 3\n",
    "\n",
    "    return f\"\"\"{'-'*45}\n",
    "    Informe de combustible:\n",
    "    Tanque 1: {tanque_1}%\n",
    "    Tanque 2: {tanque_2}% \n",
    "    Tanque 3: {tanque_3}%\n",
    "    Promedio de porcentaje: {promedio_combustible}\n",
    "{'-'*45}\n",
    "    \"\"\"\n",
    "print (combustible_informe(100, 50, 15))\n",
    "\n",
    "# Función promedio \n",
    "def promedio(valores):\n",
    "    total = sum(valores)\n",
    "    no_valores = len(valores)\n",
    "    return total / no_valores\n",
    "print (promedio([70, 15, 45]))\n",
    "\n",
    "\n",
    "# Actualiza la función\n",
    "def combustible_informe (tanque_1, tanque_2, tanque_3):\n",
    "    return f\"\"\"{'-'*45}\n",
    "    Informe de combustible:\n",
    "    Tanque 1: {tanque_1}%\n",
    "    Tanque 2: {tanque_2}% \n",
    "    Tanque 3: {tanque_3}%\n",
    "    Promedio de porcentaje: {promedio([tanque_1, tanque_2, tanque_3])}\n",
    "{'-'*45}\n",
    "    \"\"\"\n",
    "print (combustible_informe(100, 50, 15))\n",
    "\n",
    "\n"
   ]
  },
  {
   "cell_type": "markdown",
   "metadata": {},
   "source": [
    "Ejercicio 2: Trabajo con argumentos de palabra clave"
   ]
  },
  {
   "cell_type": "code",
   "execution_count": 43,
   "metadata": {},
   "outputs": [
    {
     "name": "stdout",
     "output_type": "stream",
     "text": [
      "---------------------------------------------\n",
      "    INFORME DE LA MISIÓN:\n",
      "    Destino: Venus\n",
      "    Hora de prelanzamiento: 12:15 hr\n",
      "    Tiempo de vuelo: 2.0 hrs\n",
      "    \n",
      "    Tanque externo: 6500\n",
      "    Tanque interno: 4590\n",
      "---------------------------------------------\n",
      "    \n",
      "---------------------------------------------\n",
      "    INFORME DE LA MISIÓN:\n",
      "    Destino: Neptuno\n",
      "    Tiempo: 145 minutos\n",
      "    Restante de tanques: 18000\n",
      "---------------------------------------------\n",
      "    \n",
      "---------------------------------------------\n",
      "    INFORME DE LA MISIÓN:\n",
      "    Destino: Neptuno\n",
      "    Tiempo: 145 minutos\n",
      "    Restante en tanques: 18000\n",
      "\n",
      "    Tanques principales --> 3000 galones restantes\n",
      "Tanques adicionales --> 15000 galones restantes\n",
      "\n"
     ]
    }
   ],
   "source": [
    "# Función con un informe preciso de la misión. Considera hora de prelanzamiento, tiempo de vuelo, destino, tanque externo y tanque interno\n",
    "def detallesInforme(horaPrelanzamiento, tiempoVuelo, destino, tanqueExterno, tanqueInterno):\n",
    "    return f\"\"\"{'-'*45}\n",
    "    INFORME DE LA MISIÓN:\n",
    "    Destino: {destino}\n",
    "    Hora de prelanzamiento: {horaPrelanzamiento} hr\n",
    "    Tiempo de vuelo: {tiempoVuelo} hrs\n",
    "    \n",
    "    Tanque externo: {tanqueExterno}\n",
    "    Tanque interno: {tanqueInterno}\n",
    "{'-'*45}\n",
    "    \"\"\"\n",
    "print(detallesInforme('12:15', 2.0,'Venus', 6500, 4590))\n",
    "\n",
    "# Escribe tu nueva función de reporte considerando lo anterior\n",
    "def misionInforme(destino, *minutosAdicionales, **tanquesAdicionales):\n",
    "    return f\"\"\"{'-'*45}\n",
    "    INFORME DE LA MISIÓN:\n",
    "    Destino: {destino}\n",
    "    Tiempo: {sum(minutosAdicionales)} minutos\n",
    "    Restante de tanques: {sum(tanquesAdicionales.values())}\n",
    "{'-'*45}\n",
    "    \"\"\"\n",
    "print(misionInforme(\"Neptuno\", 50, 10, 85, principales=3000, adicionales=15000))\n",
    "\n",
    "# Escribe tu nueva función\n",
    "def misionInforme(destino, *minutosAdicionales, **tanquesAdicionales):\n",
    "    reporteFinal = f\"\"\"{'-'*45}\n",
    "    INFORME DE LA MISIÓN:\n",
    "    Destino: {destino}\n",
    "    Tiempo: {sum(minutosAdicionales)} minutos\n",
    "    Restante en tanques: {sum(tanquesAdicionales.values())}\n",
    "\n",
    "    \"\"\"\n",
    "    for tanque_nombre, galones in tanquesAdicionales.items():\n",
    "        reporteFinal += f\"Tanques {tanque_nombre} --> {galones} galones restantes\\n\"\n",
    "    return reporteFinal\n",
    "\n",
    "print(misionInforme(\"Neptuno\", 50, 10, 85, principales=3000, adicionales=15000))\n",
    "\n",
    "\n",
    "\n"
   ]
  }
 ],
 "metadata": {
  "interpreter": {
   "hash": "ea67ec04d6f1609894cce0e7e2b0cbbe02cc6ecdd831ff647a387aa432f4b97f"
  },
  "kernelspec": {
   "display_name": "Python 3.10.2 64-bit (windows store)",
   "language": "python",
   "name": "python3"
  },
  "language_info": {
   "codemirror_mode": {
    "name": "ipython",
    "version": 3
   },
   "file_extension": ".py",
   "mimetype": "text/x-python",
   "name": "python",
   "nbconvert_exporter": "python",
   "pygments_lexer": "ipython3",
   "version": "3.10.2"
  },
  "orig_nbformat": 4
 },
 "nbformat": 4,
 "nbformat_minor": 2
}
